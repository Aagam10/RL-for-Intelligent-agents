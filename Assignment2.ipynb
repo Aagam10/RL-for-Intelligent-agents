{
 "cells": [
  {
   "cell_type": "code",
   "execution_count": 1,
   "id": "26ffb4c3",
   "metadata": {},
   "outputs": [],
   "source": [
    "import numpy as np\n",
    "\n",
    "# Define the grid world\n",
    "grid_world = np.array([\n",
    "    [0,  0,  0,  10],\n",
    "    [0, -1,  0,   0],\n",
    "    [0,  0,  0,   0],\n",
    "    [1,  0,  0,   5]\n",
    "])\n",
    "\n",
    "# Define the possible actions\n",
    "actions = ['up', 'down', 'left', 'right']\n",
    "\n",
    "# Define the state transition dynamics\n",
    "def get_next_state(state, action):\n",
    "    x, y = state\n",
    "    if action == 'up':\n",
    "        next_state = (max(x-1, 0), y)\n",
    "    elif action == 'down':\n",
    "        next_state = (min(x+1, 3), y)\n",
    "    elif action == 'left':\n",
    "        next_state = (x, max(y-1, 0))\n",
    "    elif action == 'right':\n",
    "        next_state = (x, min(y+1, 3))\n",
    "    return next_state if grid_world[next_state] != -1 else state\n"
   ]
  },
  {
   "cell_type": "code",
   "execution_count": 2,
   "id": "01012cd7",
   "metadata": {},
   "outputs": [],
   "source": [
    "# Initialize value function\n",
    "V = np.zeros((4, 4))\n",
    "policy = np.random.choice(actions, size=(4, 4))\n",
    "\n",
    "# Define the discount factor\n",
    "gamma = 0.9\n",
    "\n",
    "# Policy Evaluation\n",
    "def policy_evaluation(policy, V, gamma=0.9, theta=1e-6):\n",
    "    while True:\n",
    "        delta = 0\n",
    "        for i in range(4):\n",
    "            for j in range(4):\n",
    "                v = V[i, j]\n",
    "                next_state = get_next_state((i, j), policy[i, j])\n",
    "                V[i, j] = grid_world[i, j] + gamma * V[next_state]\n",
    "                delta = max(delta, abs(v - V[i, j]))\n",
    "        if delta < theta:\n",
    "            break\n",
    "    return V\n",
    "\n",
    "# Policy Improvement\n",
    "def policy_improvement(V, gamma=0.9):\n",
    "    policy_stable = True\n",
    "    for i in range(4):\n",
    "        for j in range(4):\n",
    "            old_action = policy[i, j]\n",
    "            action_values = []\n",
    "            for action in actions:\n",
    "                next_state = get_next_state((i, j), action)\n",
    "                action_values.append(grid_world[i, j] + gamma * V[next_state])\n",
    "            best_action = actions[np.argmax(action_values)]\n",
    "            policy[i, j] = best_action\n",
    "            if old_action != best_action:\n",
    "                policy_stable = False\n",
    "    return policy, policy_stable\n",
    "\n",
    "# Policy Iteration\n",
    "def policy_iteration(V, policy, gamma=0.9):\n",
    "    while True:\n",
    "        V = policy_evaluation(policy, V, gamma)\n",
    "        policy, policy_stable = policy_improvement(V, gamma)\n",
    "        if policy_stable:\n",
    "            break\n",
    "    return V, policy\n",
    "\n",
    "# Compute the optimal value function and policy\n",
    "V_optimal, policy_optimal = policy_iteration(V, policy, gamma)\n"
   ]
  },
  {
   "cell_type": "code",
   "execution_count": 3,
   "id": "8751d1ee",
   "metadata": {},
   "outputs": [
    {
     "name": "stdout",
     "output_type": "stream",
     "text": [
      "Optimal Policy:\n",
      "→ → → ↑ \n",
      "↑ → → ↑ \n",
      "→ → → ↑ \n",
      "→ → → ↑ \n"
     ]
    }
   ],
   "source": [
    "def print_policy(policy):\n",
    "    policy_symbols = {\n",
    "        'up': '↑',\n",
    "        'down': '↓',\n",
    "        'left': '←',\n",
    "        'right': '→'\n",
    "    }\n",
    "    for i in range(4):\n",
    "        for j in range(4):\n",
    "            print(policy_symbols[policy[i, j]], end=' ')\n",
    "        print()\n",
    "\n",
    "print(\"Optimal Policy:\")\n",
    "print_policy(policy_optimal)\n"
   ]
  },
  {
   "cell_type": "code",
   "execution_count": 4,
   "id": "2d149a78",
   "metadata": {},
   "outputs": [
    {
     "data": {
      "image/png": "[encoded data removed]",
      "text/plain": [
       "<Figure size 640x480 with 1 Axes>"
      ]
     },
     "metadata": {},
     "output_type": "display_data"
    },
    {
     "name": "stdout",
     "output_type": "stream",
     "text": [
      "Agent's Path: [(0, 0), (0, 1), (0, 2), (0, 3)]\n"
     ]
    },
    {
     "data": {
      "image/png": "[encoded data removed]",
      "text/plain": [
       "<Figure size 640x480 with 1 Axes>"
      ]
     },
     "metadata": {},
     "output_type": "display_data"
    }
   ],
   "source": [
    "import matplotlib.pyplot as plt\n",
    "import seaborn as sns\n",
    "\n",
    "def visualize_policy(grid, policy):\n",
    "    policy_symbols = {\n",
    "        'up': '↑',\n",
    "        'down': '↓',\n",
    "        'left': '←',\n",
    "        'right': '→'\n",
    "    }\n",
    "    fig, ax = plt.subplots()\n",
    "    sns.heatmap(grid, annot=True, fmt='d', cmap='coolwarm', cbar=False, ax=ax)\n",
    "    for i in range(4):\n",
    "        for j in range(4):\n",
    "            ax.text(j+0.5, i+0.5, policy_symbols[policy[i, j]], \n",
    "                    ha='center', va='center', color='black')\n",
    "    plt.show()\n",
    "\n",
    "def simulate_agent(policy, start_state=(0, 0)):\n",
    "    state = start_state\n",
    "    path = [state]\n",
    "    while grid_world[state] == 0:\n",
    "        state = get_next_state(state, policy[state])\n",
    "        path.append(state)\n",
    "    return path\n",
    "\n",
    "# Visualize the optimal policy\n",
    "visualize_policy(grid_world, policy_optimal)\n",
    "\n",
    "# Simulate and visualize the agent's path\n",
    "agent_path = simulate_agent(policy_optimal)\n",
    "print(\"Agent's Path:\", agent_path)\n",
    "\n",
    "# Visualize the path on the grid\n",
    "path_grid = np.zeros_like(grid_world)\n",
    "for state in agent_path:\n",
    "    path_grid[state] = 1\n",
    "\n",
    "sns.heatmap(path_grid, annot=True, fmt='d', cmap='coolwarm', cbar=False)\n",
    "plt.title(\"Agent's Path\")\n",
    "plt.show()\n"
   ]
  },
  {
   "cell_type": "code",
   "execution_count": null,
   "id": "7e5bf6b6",
   "metadata": {},
   "outputs": [],
   "source": []
  }
 ],
 "metadata": {
  "kernelspec": {
   "display_name": "Python 3 (ipykernel)",
   "language": "python",
   "name": "python3"
  },
  "language_info": {
   "codemirror_mode": {
    "name": "ipython",
    "version": 3
   },
   "file_extension": ".py",
   "mimetype": "text/x-python",
   "name": "python",
   "nbconvert_exporter": "python",
   "pygments_lexer": "ipython3",
   "version": "3.10.9"
  }
 },
 "nbformat": 4,
 "nbformat_minor": 5
}
